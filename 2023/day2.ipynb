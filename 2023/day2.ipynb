{
 "cells": [
  {
   "cell_type": "code",
   "execution_count": 9,
   "id": "7f7fb920-b049-46b6-a919-fcde7322c1fc",
   "metadata": {},
   "outputs": [],
   "source": [
    "desired_state = {\"red\":12,\"green\":13,\"blue\":14}"
   ]
  },
  {
   "cell_type": "code",
   "execution_count": 41,
   "id": "674e40f6-4812-462d-98c0-e3abc51c721e",
   "metadata": {},
   "outputs": [],
   "source": [
    "def reformat(l):\n",
    "    cubes = {}\n",
    "    for i in l:\n",
    "        x = i.split(\",\")\n",
    "        for j in x:\n",
    "            y = j.split(\" \")\n",
    "            val = y[1]\n",
    "            color = y[2]\n",
    "            if color in cubes:\n",
    "                cubes[color]=max(cubes[color],int(val))\n",
    "            else:\n",
    "                cubes[color] = int(val)\n",
    "    return cubes"
   ]
  },
  {
   "cell_type": "code",
   "execution_count": 42,
   "id": "9b752639-6427-4718-8460-08d7d2379cce",
   "metadata": {},
   "outputs": [
    {
     "data": {
      "text/plain": [
       "{'red': 9, 'green': 1, 'blue': 3}"
      ]
     },
     "execution_count": 42,
     "metadata": {},
     "output_type": "execute_result"
    }
   ],
   "source": [
    "reformat([' 5 red, 1 green', ' 6 red, 3 blue', ' 9 red', ' 1 blue, 1 green, 4 red', ' 1 green, 2 blue', ' 2 blue, 1 red'])"
   ]
  },
  {
   "cell_type": "code",
   "execution_count": 74,
   "id": "d42f06af-d558-4c94-aed6-15cf83220f82",
   "metadata": {
    "scrolled": true
   },
   "outputs": [
    {
     "name": "stdout",
     "output_type": "stream",
     "text": [
      "{'1': {'red': 9, 'green': 1, 'blue': 3}, '2': {'red': 12, 'green': 2, 'blue': 12}, '3': {'red': 13, 'blue': 8, 'green': 10}, '4': {'red': 5, 'blue': 3, 'green': 8}, '5': {'blue': 8, 'red': 1, 'green': 7}, '6': {'red': 7, 'blue': 9, 'green': 5}, '7': {'green': 7, 'blue': 6, 'red': 7}, '8': {'blue': 16, 'red': 18, 'green': 1}, '9': {'green': 7, 'red': 3, 'blue': 16}, '10': {'blue': 13, 'red': 6, 'green': 5}, '11': {'red': 9, 'green': 4, 'blue': 13}, '12': {'green': 8, 'blue': 1, 'red': 8}, '13': {'blue': 7, 'red': 14, 'green': 1}, '14': {'green': 9, 'blue': 3, 'red': 6}, '15': {'green': 1, 'blue': 4, 'red': 8}, '16': {'blue': 11, 'green': 11, 'red': 5}, '17': {'green': 6, 'blue': 15, 'red': 8}, '18': {'green': 8, 'blue': 17, 'red': 14}, '19': {'red': 13, 'blue': 18, 'green': 6}, '20': {'blue': 1, 'green': 6, 'red': 7}, '21': {'red': 9, 'green': 11, 'blue': 10}, '22': {'blue': 13, 'red': 4, 'green': 1}, '23': {'blue': 6, 'green': 5, 'red': 2}, '24': {'red': 5, 'green': 16, 'blue': 10}, '25': {'red': 12, 'green': 12, 'blue': 6}, '26': {'green': 3, 'blue': 12, 'red': 5}, '27': {'green': 9, 'red': 12, 'blue': 14}, '28': {'green': 8, 'blue': 9, 'red': 12}, '29': {'red': 18, 'green': 9, 'blue': 2}, '30': {'red': 16, 'blue': 3, 'green': 1}, '31': {'red': 15, 'blue': 12, 'green': 5}, '32': {'blue': 2, 'red': 13, 'green': 3}, '33': {'blue': 7, 'red': 8, 'green': 1}, '34': {'blue': 3, 'green': 3, 'red': 3}, '35': {'red': 9, 'blue': 7, 'green': 10}, '36': {'red': 2, 'blue': 7, 'green': 16}, '37': {'green': 2, 'red': 16, 'blue': 15}, '38': {'red': 11, 'blue': 19, 'green': 8}, '39': {'blue': 19, 'green': 13, 'red': 2}, '40': {'red': 12, 'blue': 15, 'green': 11}, '41': {'green': 10, 'red': 2, 'blue': 1}, '42': {'green': 18, 'blue': 15, 'red': 10}, '43': {'red': 3, 'blue': 19, 'green': 16}, '44': {'red': 7, 'green': 4, 'blue': 18}, '45': {'green': 9, 'blue': 3, 'red': 8}, '46': {'blue': 18, 'red': 2, 'green': 7}, '47': {'red': 17, 'green': 13, 'blue': 12}, '48': {'red': 11, 'green': 3, 'blue': 5}, '49': {'green': 2, 'blue': 12, 'red': 19}, '50': {'green': 9, 'red': 7, 'blue': 15}, '51': {'green': 16, 'blue': 17, 'red': 5}, '52': {'green': 8, 'red': 12, 'blue': 5}, '53': {'blue': 11, 'green': 9, 'red': 1}, '54': {'blue': 1, 'green': 13, 'red': 11}, '55': {'blue': 20, 'red': 5, 'green': 13}, '56': {'red': 17, 'green': 8, 'blue': 13}, '57': {'green': 15, 'red': 3, 'blue': 10}, '58': {'red': 17, 'blue': 11, 'green': 14}, '59': {'blue': 16, 'red': 10, 'green': 11}, '60': {'blue': 3, 'red': 9, 'green': 4}, '61': {'green': 9, 'red': 17, 'blue': 14}, '62': {'red': 12, 'blue': 10, 'green': 5}, '63': {'green': 3, 'red': 7, 'blue': 1}, '64': {'green': 5, 'red': 11, 'blue': 11}, '65': {'red': 5, 'blue': 5, 'green': 15}, '66': {'green': 11, 'blue': 8, 'red': 15}, '67': {'blue': 17, 'red': 4, 'green': 9}, '68': {'blue': 7, 'red': 4, 'green': 14}, '69': {'red': 8, 'green': 2, 'blue': 8}, '70': {'blue': 17, 'green': 2, 'red': 4}, '71': {'blue': 15, 'green': 2, 'red': 12}, '72': {'blue': 17, 'red': 16, 'green': 18}, '73': {'blue': 17, 'red': 18, 'green': 19}, '74': {'green': 10, 'blue': 2, 'red': 11}, '75': {'blue': 6, 'green': 4, 'red': 4}, '76': {'blue': 5, 'green': 5, 'red': 9}, '77': {'red': 18, 'blue': 12, 'green': 7}, '78': {'red': 6, 'blue': 5, 'green': 5}, '79': {'red': 18, 'blue': 6, 'green': 6}, '80': {'blue': 19, 'red': 8, 'green': 1}, '81': {'green': 19, 'red': 6, 'blue': 14}, '82': {'red': 17, 'blue': 4, 'green': 5}, '83': {'blue': 14, 'green': 16, 'red': 18}, '84': {'red': 9, 'blue': 7, 'green': 4}, '85': {'red': 1, 'green': 10, 'blue': 15}, '86': {'green': 10, 'blue': 9, 'red': 9}, '87': {'red': 17, 'green': 12, 'blue': 6}, '88': {'green': 7, 'blue': 1, 'red': 13}, '89': {'blue': 16, 'green': 11, 'red': 15}, '90': {'green': 8, 'red': 13, 'blue': 3}, '91': {'green': 9, 'red': 13, 'blue': 11}, '92': {'blue': 11, 'green': 10, 'red': 1}, '93': {'red': 18, 'blue': 15, 'green': 11}, '94': {'red': 13, 'blue': 20, 'green': 11}, '95': {'blue': 11, 'red': 10, 'green': 13}, '96': {'red': 6, 'green': 20, 'blue': 16}, '97': {'red': 14, 'blue': 2, 'green': 14}, '98': {'blue': 13, 'green': 18, 'red': 7}, '99': {'blue': 12, 'red': 1, 'green': 7}, '100': {'blue': 10, 'green': 5, 'red': 4}}\n"
     ]
    }
   ],
   "source": [
    "input = {}\n",
    "with open(\"day2.txt\") as file:\n",
    "    while line := file.readline():\n",
    "        y = line.rstrip()\n",
    "        y = y.split(\":\")\n",
    "        x = y[1].split(\";\")\n",
    "        y1 = y[0].split(\" \")[1]\n",
    "        input[y1]=reformat(x)\n",
    "print(input)"
   ]
  },
  {
   "cell_type": "code",
   "execution_count": 69,
   "id": "36846ea6-3598-4900-9711-dd64df6b75a7",
   "metadata": {},
   "outputs": [
    {
     "name": "stdout",
     "output_type": "stream",
     "text": [
      "1867\n"
     ]
    }
   ],
   "source": [
    "answer = 0\n",
    "for key,value in input.items():\n",
    "    if not (('red' in value and value['red']>12) or ('green' in value and value['green']>13) or ('blue' in value and value['blue']>14)):\n",
    "        answer+=int(key)\n",
    "print(answer)"
   ]
  },
  {
   "cell_type": "code",
   "execution_count": 79,
   "id": "1d8267da-cd8d-45f4-bf17-8816289a9d8e",
   "metadata": {},
   "outputs": [],
   "source": [
    "answer = 0\n",
    "for key,value in input.items():\n",
    "    answer = answer + (int(value['red'])*int(value['blue'])*int(value['green']))"
   ]
  },
  {
   "cell_type": "code",
   "execution_count": 80,
   "id": "97f38af2-b4c6-4de4-ab30-51806988cb46",
   "metadata": {},
   "outputs": [
    {
     "data": {
      "text/plain": [
       "84538"
      ]
     },
     "execution_count": 80,
     "metadata": {},
     "output_type": "execute_result"
    }
   ],
   "source": [
    "answer"
   ]
  }
 ],
 "metadata": {
  "kernelspec": {
   "display_name": "Python 3 (ipykernel)",
   "language": "python",
   "name": "python3"
  },
  "language_info": {
   "codemirror_mode": {
    "name": "ipython",
    "version": 3
   },
   "file_extension": ".py",
   "mimetype": "text/x-python",
   "name": "python",
   "nbconvert_exporter": "python",
   "pygments_lexer": "ipython3",
   "version": "3.9.5"
  }
 },
 "nbformat": 4,
 "nbformat_minor": 5
}
